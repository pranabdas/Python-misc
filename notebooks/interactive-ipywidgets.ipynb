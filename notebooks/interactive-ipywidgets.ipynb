{
 "cells": [
  {
   "cell_type": "code",
   "execution_count": 1,
   "id": "049802b7",
   "metadata": {},
   "outputs": [
    {
     "data": {
      "application/vnd.jupyter.widget-view+json": {
       "model_id": "1c18831b74f040b3abce362a70217818",
       "version_major": 2,
       "version_minor": 0
      },
      "text/plain": [
       "interactive(children=(IntSlider(value=2, description='m', max=5), IntSlider(value=2, description='n', max=5), …"
      ]
     },
     "metadata": {},
     "output_type": "display_data"
    }
   ],
   "source": [
    "import numpy as np\n",
    "import matplotlib.pyplot as plt\n",
    "from ipywidgets import interactive\n",
    "%matplotlib inline\n",
    "plt.rcParams[\"figure.dpi\"]=150\n",
    "plt.rcParams[\"figure.facecolor\"]=\"white\"\n",
    "\n",
    "def plot_func(m, n):\n",
    "    x = np.linspace(0, 4*np.pi, num=1000)\n",
    "    y = np.sin(2*np.pi*x/m) + np.sin(2*np.pi*x/n)\n",
    "    plt.plot(x, y)\n",
    "    plt.xlabel(\"x\")\n",
    "    plt.ylabel(\"sin(2$\\\\pi$x/m) + sin(2$\\\\pi$x/n)\")\n",
    "    plt.show()\n",
    "    \n",
    "interactive_plot = interactive(plot_func, m=(0, 5, 1), n=(0, 5, 1))\n",
    "output = interactive_plot.children[-1]\n",
    "interactive_plot"
   ]
  },
  {
   "cell_type": "code",
   "execution_count": null,
   "id": "6604b337",
   "metadata": {},
   "outputs": [],
   "source": []
  }
 ],
 "metadata": {
  "kernelspec": {
   "display_name": "Python 3",
   "language": "python",
   "name": "python3"
  },
  "language_info": {
   "codemirror_mode": {
    "name": "ipython",
    "version": 3
   },
   "file_extension": ".py",
   "mimetype": "text/x-python",
   "name": "python",
   "nbconvert_exporter": "python",
   "pygments_lexer": "ipython3",
   "version": "3.8.5"
  }
 },
 "nbformat": 4,
 "nbformat_minor": 5
}
