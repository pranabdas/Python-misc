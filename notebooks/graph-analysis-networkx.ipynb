{
 "cells": [
  {
   "cell_type": "code",
   "execution_count": 1,
   "id": "fd2ad78e-4e81-4d3b-96e4-01083cccd2cb",
   "metadata": {
    "tags": []
   },
   "outputs": [],
   "source": [
    "import networkx as nx\n",
    "import matplotlib.pyplot as plt\n",
    "%matplotlib inline"
   ]
  },
  {
   "cell_type": "markdown",
   "id": "920483bd-8485-43b3-b410-2e51d30024f1",
   "metadata": {},
   "source": [
    "### Building basic graph"
   ]
  },
  {
   "cell_type": "code",
   "execution_count": 2,
   "id": "89f6e927-f65e-43ef-a977-d334118dfbcc",
   "metadata": {
    "tags": []
   },
   "outputs": [],
   "source": [
    "G = nx.Graph() # undirected graph\n",
    "# Directed graph: DiGraph()\n",
    "# Multigraph with more than one edges between pair of vertices: MultiGraph()\n",
    "# MultiDiGraph()\n",
    "# self loops are allowed in all cases\n",
    "edge_list = [(1, 2), (1, 7), (1, 8), (2, 3), (2, 5), (3, 4), (3, 5)] # default weight is 1\n",
    "G.add_edges_from(edge_list)\n",
    "G.add_edge(4, 5)\n",
    "G.add_edge(5, 6)\n",
    "# we can add nodes without edges\n",
    "# G.add_node(9)\n",
    "# G.add_nodes_from([10, 11])\n",
    "# G.add_nodes_from(range(12, 15))"
   ]
  },
  {
   "cell_type": "markdown",
   "id": "e6784b6b-2e92-470b-871f-c5a170becfc1",
   "metadata": {},
   "source": [
    "### Draw graphs"
   ]
  },
  {
   "cell_type": "code",
   "execution_count": 3,
   "id": "c5693e6d-1a5b-4fbd-95e0-13bd3dd4f0e6",
   "metadata": {
    "tags": []
   },
   "outputs": [
    {
     "data": {
      "image/png": "[encoded data removed]",
      "text/plain": [
       "<Figure size 640x480 with 1 Axes>"
      ]
     },
     "metadata": {},
     "output_type": "display_data"
    }
   ],
   "source": [
    "nx.draw_networkx(G, \n",
    "                 # pos=nx.circular_layout(G),\n",
    "                 node_color='lime',\n",
    "                 edge_color='k')\n",
    "plt.axis(\"off\")\n",
    "plt.show()"
   ]
  },
  {
   "cell_type": "markdown",
   "id": "6b4c674a-1c11-4a7a-a3b6-71f94bd10e6f",
   "metadata": {},
   "source": [
    "### Graph operations"
   ]
  },
  {
   "cell_type": "code",
   "execution_count": 4,
   "id": "8b8d490b-fe65-4f67-98c2-e98269f96ddc",
   "metadata": {
    "tags": []
   },
   "outputs": [
    {
     "data": {
      "text/plain": [
       "True"
      ]
     },
     "execution_count": 4,
     "metadata": {},
     "output_type": "execute_result"
    }
   ],
   "source": [
    "# is node 3 in the Graph\n",
    "3 in G"
   ]
  },
  {
   "cell_type": "code",
   "execution_count": 5,
   "id": "00ef322a-089c-4bb4-8faf-f88ae79c51ca",
   "metadata": {
    "tags": []
   },
   "outputs": [
    {
     "data": {
      "text/plain": [
       "AtlasView({2: {}, 3: {}, 4: {}, 6: {}})"
      ]
     },
     "execution_count": 5,
     "metadata": {},
     "output_type": "execute_result"
    }
   ],
   "source": [
    "# print neighbors of 5\n",
    "G[5]"
   ]
  },
  {
   "cell_type": "code",
   "execution_count": 6,
   "id": "66426d4f-47ce-416e-a9aa-742aab6f6bce",
   "metadata": {
    "tags": []
   },
   "outputs": [
    {
     "data": {
      "text/plain": [
       "{}"
      ]
     },
     "execution_count": 6,
     "metadata": {},
     "output_type": "execute_result"
    }
   ],
   "source": [
    "# edge attribute (here we do not have any edge attribute)\n",
    "G[1][2]"
   ]
  },
  {
   "cell_type": "code",
   "execution_count": 7,
   "id": "8eaca730-fd07-4876-a8e4-d13eecbe5752",
   "metadata": {
    "tags": []
   },
   "outputs": [
    {
     "data": {
      "text/plain": [
       "{'weight': 0.5}"
      ]
     },
     "execution_count": 7,
     "metadata": {},
     "output_type": "execute_result"
    }
   ],
   "source": [
    "# we can create one with edge attribute\n",
    "G.add_edge(1, 8, weight=0.5)\n",
    "G[1][8]\n",
    "# we can have more than one edge attributes\n",
    "# G.add_edge(1, 8, color='red', weight=0.5, size=3)\n",
    "# G[1][8][\"weight\"]"
   ]
  },
  {
   "cell_type": "code",
   "execution_count": 8,
   "id": "1a90be64-b53f-4f6a-9d5e-a53dc4b7f60d",
   "metadata": {
    "tags": []
   },
   "outputs": [
    {
     "name": "stdout",
     "output_type": "stream",
     "text": [
      "1, 2, 7, 8, 3, 5, 4, 6\n"
     ]
    }
   ],
   "source": [
    "# iterate through all the nodes\n",
    "i = 1\n",
    "for node in G:\n",
    "    if (i < len(G)):\n",
    "        print(node, end=', ')\n",
    "    else:\n",
    "        print(node)\n",
    "    i += 1"
   ]
  },
  {
   "cell_type": "code",
   "execution_count": 9,
   "id": "195d838a-4af7-44bd-bd27-c7efdaf038aa",
   "metadata": {
    "tags": []
   },
   "outputs": [
    {
     "data": {
      "text/plain": [
       "[1, 2, 3, 4]"
      ]
     },
     "execution_count": 9,
     "metadata": {},
     "output_type": "execute_result"
    }
   ],
   "source": [
    "# iterate through nodes with condition\n",
    "[node for node in G if node < 5]"
   ]
  },
  {
   "cell_type": "code",
   "execution_count": 10,
   "id": "49511f06-b4d3-444a-9b49-605b7c3a08e1",
   "metadata": {
    "tags": []
   },
   "outputs": [
    {
     "name": "stdout",
     "output_type": "stream",
     "text": [
      "2 3 4 6 "
     ]
    }
   ],
   "source": [
    "# iterate through neighbors\n",
    "for nbr in G[5]:\n",
    "    print(nbr, end=' ')"
   ]
  },
  {
   "cell_type": "markdown",
   "id": "b3e90b7a-079f-4491-b4b2-c48c996ab7f8",
   "metadata": {},
   "source": [
    "### Traversal"
   ]
  },
  {
   "cell_type": "code",
   "execution_count": 11,
   "id": "86d832a3-baf3-4682-8c04-f5f959e62577",
   "metadata": {
    "tags": []
   },
   "outputs": [
    {
     "data": {
      "text/plain": [
       "[(1, 2), (1, 7), (1, 8), (2, 3), (2, 5), (3, 4), (5, 6)]"
      ]
     },
     "execution_count": 11,
     "metadata": {},
     "output_type": "execute_result"
    }
   ],
   "source": [
    "# breadth first search\n",
    "list(nx.bfs_edges(G, source=1))"
   ]
  },
  {
   "cell_type": "code",
   "execution_count": 12,
   "id": "40cd4aac-0aa3-4238-9e1f-14ba6b6998e7",
   "metadata": {
    "tags": []
   },
   "outputs": [
    {
     "data": {
      "text/plain": [
       "[(1, 2), (2, 3), (3, 4), (4, 5), (5, 6), (1, 7), (1, 8)]"
      ]
     },
     "execution_count": 12,
     "metadata": {},
     "output_type": "execute_result"
    }
   ],
   "source": [
    "# depth first search \n",
    "list(nx.dfs_edges(G, source=1))"
   ]
  },
  {
   "cell_type": "markdown",
   "id": "b98686f2-5c59-41b7-b56f-f4208deccd57",
   "metadata": {},
   "source": [
    "### Algorithms"
   ]
  },
  {
   "cell_type": "code",
   "execution_count": 13,
   "id": "65b21405-5c66-47ce-a7c9-51c2293a283c",
   "metadata": {
    "tags": []
   },
   "outputs": [
    {
     "name": "stdout",
     "output_type": "stream",
     "text": [
      "[1, 2, 3, 4]\n"
     ]
    }
   ],
   "source": [
    "print(nx.dijkstra_path(G, 1, 4))"
   ]
  },
  {
   "cell_type": "code",
   "execution_count": null,
   "id": "80d83b36-c8c4-4fcb-8ebf-9e41b27e0baa",
   "metadata": {},
   "outputs": [],
   "source": []
  }
 ],
 "metadata": {
  "kernelspec": {
   "display_name": "Python 3 (ipykernel)",
   "language": "python",
   "name": "python3"
  },
  "language_info": {
   "codemirror_mode": {
    "name": "ipython",
    "version": 3
   },
   "file_extension": ".py",
   "mimetype": "text/x-python",
   "name": "python",
   "nbconvert_exporter": "python",
   "pygments_lexer": "ipython3",
   "version": "3.10.6"
  }
 },
 "nbformat": 4,
 "nbformat_minor": 5
}
