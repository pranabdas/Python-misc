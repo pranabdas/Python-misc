{
 "cells": [
  {
   "cell_type": "markdown",
   "metadata": {},
   "source": [
    "### If/else statement "
   ]
  },
  {
   "cell_type": "code",
   "execution_count": 3,
   "metadata": {},
   "outputs": [
    {
     "name": "stdout",
     "output_type": "stream",
     "text": [
      "You are adult person.\n"
     ]
    }
   ],
   "source": [
    "age = 33;\n",
    "\n",
    "if (age >= 18):\n",
    "    print(\"You are adult person.\")\n",
    "else:\n",
    "    print(\"You are not an adult yet.\")"
   ]
  },
  {
   "cell_type": "code",
   "execution_count": 4,
   "metadata": {},
   "outputs": [
    {
     "name": "stdout",
     "output_type": "stream",
     "text": [
      "You are not an adult yet.\n"
     ]
    }
   ],
   "source": [
    "age = 12;\n",
    "\n",
    "if (age >= 18):\n",
    "    print(\"You are adult person.\")\n",
    "else:\n",
    "    print(\"You are not an adult yet.\")"
   ]
  },
  {
   "cell_type": "code",
   "execution_count": 10,
   "metadata": {},
   "outputs": [
    {
     "name": "stdout",
     "output_type": "stream",
     "text": [
      "You are adult person.\n"
     ]
    }
   ],
   "source": [
    "age = 33; \n",
    "\n",
    "if (age >=18 and age <65):\n",
    "    print(\"You are adult person.\") \n",
    "elif (age >=65): \n",
    "    print(\"You are a senior.\") \n",
    "else: \n",
    "    print(\"You are not an adult yet.\")"
   ]
  },
  {
   "cell_type": "code",
   "execution_count": 11,
   "metadata": {},
   "outputs": [
    {
     "name": "stdout",
     "output_type": "stream",
     "text": [
      "You are a senior.\n"
     ]
    }
   ],
   "source": [
    "age = 70; \n",
    "\n",
    "if (age >=18 and age <65):\n",
    "    print(\"You are adult person.\") \n",
    "elif (age >=65): \n",
    "    print(\"You are a senior.\") \n",
    "else: \n",
    "    print(\"You are not an adult yet.\")"
   ]
  },
  {
   "cell_type": "code",
   "execution_count": 12,
   "metadata": {},
   "outputs": [
    {
     "name": "stdout",
     "output_type": "stream",
     "text": [
      "You are not an adult yet.\n"
     ]
    }
   ],
   "source": [
    "age = 17; \n",
    "\n",
    "if (age >=18 and age <65):\n",
    "    print(\"You are adult person.\") \n",
    "elif (age >=65): \n",
    "    print(\"You are a senior.\") \n",
    "else: \n",
    "    print(\"You are not an adult yet.\")"
   ]
  },
  {
   "cell_type": "code",
   "execution_count": null,
   "metadata": {},
   "outputs": [],
   "source": []
  }
 ],
 "metadata": {
  "kernelspec": {
   "display_name": "Python 3",
   "language": "python",
   "name": "python3"
  },
  "language_info": {
   "codemirror_mode": {
    "name": "ipython",
    "version": 3
   },
   "file_extension": ".py",
   "mimetype": "text/x-python",
   "name": "python",
   "nbconvert_exporter": "python",
   "pygments_lexer": "ipython3",
   "version": "3.7.5"
  }
 },
 "nbformat": 4,
 "nbformat_minor": 2
}
