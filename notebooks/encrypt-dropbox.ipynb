{
 "cells": [
  {
   "cell_type": "code",
   "execution_count": 5,
   "metadata": {},
   "outputs": [
    {
     "name": "stdout",
     "output_type": "stream",
     "text": [
      "Data encryption password: ········\n",
      "Dropbox access token password: ········\n"
     ]
    }
   ],
   "source": [
    "# Author: Pranab Das (Twitter: @pranab_das)\n",
    "# Version: 20191024 \n",
    "# Requirements: Dropbox Python SDK\n",
    "# This programs allows to upload large files. The previous version of the \n",
    "# program would fail if the file size is larger than ~150MB. \n",
    "\n",
    "import dropbox \n",
    "from getpass import getpass\n",
    "from simplecrypt import encrypt, decrypt\n",
    "from io import BytesIO\n",
    "import numpy as np\n",
    "\n",
    "# Open the text file and read as binary \n",
    "#fid = open('/Users/Pranab/Dropbox/Shared/ARPES_PC/Plots/SNO_Mar2019.pxp', 'rb')\n",
    "fid = open('example_spectrum.txt', 'rb')\n",
    "file_bin_data = fid.read()\n",
    "fid.close()\n",
    "\n",
    "# encrypt your data \n",
    "encdata = encrypt(getpass(\"Data encryption password: \"), file_bin_data)\n",
    "\n",
    "# Get your Dropbox Access token and create dropbox object\n",
    "# Here I've encrypted access token, you can get yours at \n",
    "# https://www.dropbox.com/developers/apps/create\n",
    "\n",
    "# dbx = dropbox.Dropbox('Access token')\n",
    "dbx = dropbox.Dropbox(decrypt(getpass(\"Dropbox access token password: \"), b'sc\\x00\\x02\\xb6\\xd2q\\xc2\\x7fs\\xc3H\\x07\\x96*\\xacS\\xb3w$a\"\\xf7\\x0c\\x8b\\xce\\xf6\\xcb\\x08\\xd7\\xff\\xf4\\xc8\\'\\xaa\\xb3Q\\xecg\\xaf\\x04T3\\xd9\\xe1\\xcd\\xb1\\n\\xefN\\xedE\\xf1\\xaf4\\x17\\xebRE\\xf1\\xf6\\xa9,X=\\x88n\\x12y\\xc86N\\xa0\\xaf\\xbf#\\x82\\x86\\xab\\x96\\xf9\\x86\\xbaHc\\xef\\x8cq?i\\x96\\xa7@\\xf5\\x92a\\xf0\\x91\\xbe\\x1c\\n\\x86^\\xfe`X\\xe4\\xa7\\x08NN\\x08\\x9c/\\xa4{v\\x19n\\x1a<\\x85@\\x9a\\x07\\x8a\\xa4\\xc8\\x8c\\x158\\xf3').decode('utf8'))\n",
    "\n",
    "# Write encrypted data to specific dropbox location (Note the Overwrite mode)\n",
    "# If the file size is more than 150 MB, we need to create upload session. \n",
    "\n",
    "CHUNK_SIZE = 150*1024*1024\n",
    "file_size = len(encdata)\n",
    "\n",
    "if file_size <= CHUNK_SIZE: \n",
    "    dbx.files_upload(encdata, '/ARPES_Data/data.enc', mode=dropbox.files.WriteMode.overwrite)\n",
    "    \n",
    "else:\n",
    "    encdata = BytesIO(encdata)\n",
    "    upload_session_start_result = dbx.files_upload_session_start(encdata.read(CHUNK_SIZE))\n",
    "    cursor = dropbox.files.UploadSessionCursor(session_id=upload_session_start_result.session_id, offset=encdata.tell())\n",
    "    commit = dropbox.files.CommitInfo(path=\"/ARPES_Data/large_data.enc\", mode=dropbox.files.WriteMode.overwrite)\n",
    "\n",
    "    while encdata.tell() < file_size:\n",
    "        if ((file_size - encdata.tell()) <= CHUNK_SIZE):\n",
    "            dbx.files_upload_session_finish(encdata.read(CHUNK_SIZE), cursor, commit)\n",
    "        else:\n",
    "            dbx.files_upload_session_append(encdata.read(CHUNK_SIZE), cursor.session_id, cursor.offset)\n",
    "            cursor.offset = encdata.tell()"
   ]
  },
  {
   "cell_type": "code",
   "execution_count": 4,
   "metadata": {},
   "outputs": [
    {
     "name": "stdout",
     "output_type": "stream",
     "text": [
      "Decryption password: ········\n"
     ]
    }
   ],
   "source": [
    "# Read the file from Dropbox\n",
    "md, read_encdata = dbx.files_download('/ARPES_Data/large_data.bin')\n",
    "read_encdata = read_encdata.content\n",
    "\n",
    "# Decrypt and write to local storage \n",
    "data_bin = decrypt(getpass(\"Decryption password: \"), read_encdata)\n",
    "\n",
    "fid = open('file.pxp', 'wb')\n",
    "fid.write(data_bin)\n",
    "fid.close()"
   ]
  },
  {
   "cell_type": "code",
   "execution_count": null,
   "metadata": {},
   "outputs": [],
   "source": []
  }
 ],
 "metadata": {
  "kernelspec": {
   "display_name": "Python 3",
   "language": "python",
   "name": "python3"
  },
  "language_info": {
   "codemirror_mode": {
    "name": "ipython",
    "version": 3
   },
   "file_extension": ".py",
   "mimetype": "text/x-python",
   "name": "python",
   "nbconvert_exporter": "python",
   "pygments_lexer": "ipython3",
   "version": "3.6.8"
  }
 },
 "nbformat": 4,
 "nbformat_minor": 2
}
