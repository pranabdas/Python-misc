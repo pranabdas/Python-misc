{
 "cells": [
  {
   "cell_type": "code",
   "execution_count": 1,
   "id": "a851af90-cbb7-465b-83b1-6a4729f1fedb",
   "metadata": {},
   "outputs": [],
   "source": [
    "import time\n",
    "import concurrent.futures\n",
    "import numpy as np"
   ]
  },
  {
   "cell_type": "code",
   "execution_count": 2,
   "id": "96ce2d1a-ef1a-43d6-aafc-1c34287b5da6",
   "metadata": {},
   "outputs": [
    {
     "name": "stdout",
     "output_type": "stream",
     "text": [
      "0\n",
      "1\n",
      "2\n",
      "3\n",
      "4\n",
      "The program took 10.024263399998745 second(s).\n"
     ]
    }
   ],
   "source": [
    "def sleep(sec):\n",
    "    time.sleep(sec)\n",
    "    return sec\n",
    "\n",
    "t0 = time.perf_counter()\n",
    "\n",
    "for ii in range(5):\n",
    "    print(sleep(ii))\n",
    "\n",
    "t_final = time.perf_counter()\n",
    "print(\"The program took\", t_final - t0, \"second(s).\")"
   ]
  },
  {
   "cell_type": "code",
   "execution_count": 3,
   "id": "a6b4b630-dbaf-4fbf-a917-ed5b6eb14478",
   "metadata": {},
   "outputs": [
    {
     "name": "stdout",
     "output_type": "stream",
     "text": [
      "0\n",
      "1\n",
      "2\n",
      "3\n",
      "4\n",
      "The program took 6.132810200000677 second(s).\n"
     ]
    }
   ],
   "source": [
    "t0 = time.perf_counter()\n",
    "\n",
    "with concurrent.futures.ProcessPoolExecutor() as executor:\n",
    "    results = [executor.submit(sleep, ii) for ii in range(5)]\n",
    "    \n",
    "    for f in concurrent.futures.as_completed(results):\n",
    "        print(f.result())\n",
    "\n",
    "t_final = time.perf_counter()\n",
    "print(\"The program took\", t_final - t0, \"second(s).\")"
   ]
  },
  {
   "cell_type": "code",
   "execution_count": 4,
   "id": "218bd9ce-d168-442e-b01e-b365da1a37d9",
   "metadata": {},
   "outputs": [],
   "source": [
    "with concurrent.futures.ProcessPoolExecutor() as executor:\n",
    "    results = [executor.submit(sleep, ii) for ii in range(5)]\n",
    "    \n",
    "    result_list = []\n",
    "    for f in concurrent.futures.as_completed(results):\n",
    "        result_list.append(f.result())"
   ]
  },
  {
   "cell_type": "code",
   "execution_count": 5,
   "id": "e54f2e6a-19b6-42a8-b55e-b28cc13f00f1",
   "metadata": {},
   "outputs": [],
   "source": [
    "result_array = np.vstack(result_list)"
   ]
  },
  {
   "cell_type": "code",
   "execution_count": 6,
   "id": "cfc98d6f-b699-4c2e-93b6-ea80c5bcff80",
   "metadata": {},
   "outputs": [
    {
     "name": "stdout",
     "output_type": "stream",
     "text": [
      "0\n",
      "1\n",
      "2\n",
      "3\n",
      "4\n",
      "The program took 4.186369999999442 second(s).\n"
     ]
    }
   ],
   "source": [
    "import multiprocessing\n",
    "\n",
    "def sleep(sec, return_dict):\n",
    "    time.sleep(sec)\n",
    "    return_dict[sec] = sec\n",
    "    \n",
    "t0 = time.perf_counter()\n",
    "\n",
    "if __name__ == \"__main__\":\n",
    "    manager = multiprocessing.Manager()\n",
    "    return_dict = manager.dict()\n",
    "    jobs = []\n",
    "    for i in range(5):\n",
    "        p = multiprocessing.Process(target=sleep, args=(i, return_dict))\n",
    "        jobs.append(p)\n",
    "        p.start()\n",
    "\n",
    "    for proc in jobs:\n",
    "        proc.join()\n",
    "    \n",
    "    for key in range(5):\n",
    "        print(return_dict[key])\n",
    "        \n",
    "t_final = time.perf_counter()\n",
    "print(\"The program took\", t_final - t0, \"second(s).\")"
   ]
  },
  {
   "cell_type": "code",
   "execution_count": null,
   "id": "c37cbb0d-162d-46f2-93ec-a0de2cb56d77",
   "metadata": {},
   "outputs": [],
   "source": []
  }
 ],
 "metadata": {
  "kernelspec": {
   "display_name": "Python 3",
   "language": "python",
   "name": "python3"
  },
  "language_info": {
   "codemirror_mode": {
    "name": "ipython",
    "version": 3
   },
   "file_extension": ".py",
   "mimetype": "text/x-python",
   "name": "python",
   "nbconvert_exporter": "python",
   "pygments_lexer": "ipython3",
   "version": "3.8.5"
  }
 },
 "nbformat": 4,
 "nbformat_minor": 5
}
